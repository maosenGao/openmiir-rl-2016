{
 "cells": [
  {
   "cell_type": "code",
   "execution_count": 1,
   "metadata": {},
   "outputs": [],
   "source": [
    "job_id = 'raw_openmiir_e2e_simpleconv_ep100'"
   ]
  },
  {
   "cell_type": "code",
   "execution_count": 2,
   "metadata": {
    "scrolled": true
   },
   "outputs": [
    {
     "name": "stdout",
     "output_type": "stream",
     "text": [
      "Requirement already satisfied: theano==0.8.0 in d:\\anacon\\envs\\python27\\lib\\site-packages (0.8.0)\n",
      "Requirement already satisfied: six>=1.9.0 in c:\\users\\zx305\\appdata\\roaming\\python\\python27\\site-packages (from theano==0.8.0) (1.14.0)\n",
      "Requirement already satisfied: numpy>=1.7.1 in d:\\anacon\\envs\\python27\\lib\\site-packages (from theano==0.8.0) (1.16.6)\n",
      "Requirement already satisfied: scipy>=0.11 in d:\\anacon\\envs\\python27\\lib\\site-packages (from theano==0.8.0) (1.2.3)\n"
     ]
    },
    {
     "name": "stderr",
     "output_type": "stream",
     "text": [
      "DEPRECATION: Python 2.7 reached the end of its life on January 1st, 2020. Please upgrade your Python as Python 2.7 is no longer maintained. A future version of pip will drop support for Python 2.7. More details about Python 2 support in pip, can be found at https://pip.pypa.io/en/latest/development/release-process/#python-2-support\n"
     ]
    }
   ],
   "source": [
    "# !pip install blocks\n",
    "# ERROR: Could not find a version that satisfies the requirement blocks (from versions: none)\n",
    "# ERROR: No matching distribution found for blocks\n",
    "\n",
    "# !pip install config\n",
    "!pip install theano==0.8.0"
   ]
  },
  {
   "cell_type": "code",
   "execution_count": 3,
   "metadata": {
    "scrolled": true
   },
   "outputs": [
    {
     "name": "stderr",
     "output_type": "stream",
     "text": [
      "ERROR (theano.sandbox.cuda): nvcc compiler not found on $PATH. Check your nvcc installation and try again.\n"
     ]
    }
   ],
   "source": [
    "import os\n",
    "os.environ[\"THEANO_FLAGS\"] = \"floatX=float32,device=gpu\"\n",
    "\n",
    "from common_settings import *\n",
    "hyper_params['blocks_extensions_bokeh_plot_title'] = job_id\n",
    "hyper_params['classifier_input_shape'] = (64, 3518, 1)  # c01 format as batch size may vary\n",
    "\n",
    "# print_hyper_params()"
   ]
  },
  {
   "cell_type": "code",
   "execution_count": 4,
   "metadata": {},
   "outputs": [],
   "source": [
    "from deepthought.experiments.encoding.datasets.openmiir import OpenMIIRNestedCVFoldGenerator\n",
    "from deepthought.experiments.encoding.experiment_templates.end_to_end import End2EndBaseline\n",
    "from deepthought.experiments.encoding.pipelines.single_conv_filter import SingleConvFilterPipelineFactory\n",
    "\n",
    "from deepthought.experiments.encoding.classifiers.linear_svc import UntunedLinearSVCClassifierFactory\n",
    "from deepthought.experiments.encoding.classifiers.simple_nn import SimpleNNClassifierFactory"
   ]
  },
  {
   "cell_type": "code",
   "execution_count": 5,
   "metadata": {
    "scrolled": false
   },
   "outputs": [
    {
     "name": "stdout",
     "output_type": "stream",
     "text": [
      "running job #raw_openmiir_e2e_simpleconv_ep100\n",
      "output path:  results\\raw_openmiir_e2e_simpleconv_ep100\n"
     ]
    },
    {
     "name": "stderr",
     "output_type": "stream",
     "text": [
      "INFO:numexpr.utils:NumExpr defaulting to 8 threads.\n"
     ]
    },
    {
     "name": "stdout",
     "output_type": "stream",
     "text": [
      "processing outer fold {'train': ['P04', 'P06', 'P07', 'P09', 'P11', 'P12', 'P13', 'P14'], 'valid': ['P01']}\n",
      "loaded filter weights from results\\raw_openmiir_e2e_simpleconv_ep100\\mlp_fold_0_weights.npy\n",
      "processing outer fold {'train': ['P01', 'P06', 'P07', 'P09', 'P11', 'P12', 'P13', 'P14'], 'valid': ['P04']}\n",
      "loaded filter weights from results\\raw_openmiir_e2e_simpleconv_ep100\\mlp_fold_1_weights.npy\n",
      "processing outer fold {'train': ['P01', 'P04', 'P07', 'P09', 'P11', 'P12', 'P13', 'P14'], 'valid': ['P06']}\n",
      "loaded filter weights from results\\raw_openmiir_e2e_simpleconv_ep100\\mlp_fold_2_weights.npy\n",
      "processing outer fold {'train': ['P01', 'P04', 'P06', 'P09', 'P11', 'P12', 'P13', 'P14'], 'valid': ['P07']}\n",
      "loaded filter weights from results\\raw_openmiir_e2e_simpleconv_ep100\\mlp_fold_3_weights.npy\n",
      "processing outer fold {'train': ['P01', 'P04', 'P06', 'P07', 'P11', 'P12', 'P13', 'P14'], 'valid': ['P09']}\n",
      "loaded filter weights from results\\raw_openmiir_e2e_simpleconv_ep100\\mlp_fold_4_weights.npy\n",
      "processing outer fold {'train': ['P01', 'P04', 'P06', 'P07', 'P09', 'P12', 'P13', 'P14'], 'valid': ['P11']}\n",
      "loaded filter weights from results\\raw_openmiir_e2e_simpleconv_ep100\\mlp_fold_5_weights.npy\n",
      "processing outer fold {'train': ['P01', 'P04', 'P06', 'P07', 'P09', 'P11', 'P13', 'P14'], 'valid': ['P12']}\n",
      "loaded filter weights from results\\raw_openmiir_e2e_simpleconv_ep100\\mlp_fold_6_weights.npy\n",
      "processing outer fold {'train': ['P01', 'P04', 'P06', 'P07', 'P09', 'P11', 'P12', 'P14'], 'valid': ['P13']}\n",
      "loaded filter weights from results\\raw_openmiir_e2e_simpleconv_ep100\\mlp_fold_7_weights.npy\n",
      "processing outer fold {'train': ['P01', 'P04', 'P06', 'P07', 'P09', 'P11', 'P12', 'P13'], 'valid': ['P14']}\n",
      "loaded filter weights from results\\raw_openmiir_e2e_simpleconv_ep100\\mlp_fold_8_weights.npy\n",
      "all folds completed\n",
      "\n",
      "SUMMARY for classifier mlp\n",
      "\n",
      "fold scores:  [0.     0.1833 0.1167 0.15   0.2    0.0333 0.0833 0.2    0.1333]\n",
      "\n",
      "              precision    recall  f1-score   support\n",
      "\n",
      "         0.0       0.10      0.11      0.11        45\n",
      "         1.0       0.11      0.16      0.13        45\n",
      "         2.0       0.13      0.11      0.12        45\n",
      "         3.0       0.12      0.13      0.13        45\n",
      "         4.0       0.13      0.13      0.13        45\n",
      "         5.0       0.08      0.07      0.07        45\n",
      "         6.0       0.12      0.09      0.10        45\n",
      "         7.0       0.05      0.04      0.04        45\n",
      "         8.0       0.09      0.11      0.10        45\n",
      "         9.0       0.23      0.24      0.24        45\n",
      "        10.0       0.15      0.13      0.14        45\n",
      "        11.0       0.15      0.13      0.14        45\n",
      "\n",
      "   micro avg       0.12      0.12      0.12       540\n",
      "   macro avg       0.12      0.12      0.12       540\n",
      "weighted avg       0.12      0.12      0.12       540\n",
      "\n",
      "[[ 5  6  1  5  5  0  1  6  5  2  4  5]\n",
      " [ 5  7  2  5  0  3  3  5  9  3  2  1]\n",
      " [ 5  5  5  5  5  5  1  2  4  2  3  3]\n",
      " [ 3  4  3  6  7  3  1  3  4  2  2  7]\n",
      " [ 5  4  4  2  6  3  6  2  1  4  5  3]\n",
      " [ 1  7  4  6  3  3  3  5  2  9  2  0]\n",
      " [ 2  7  1  6  4  2  4  3  5  3  5  3]\n",
      " [ 8  4  2  2  3  7  6  2  3  2  2  4]\n",
      " [ 3  7  5  2  3  1  1  5  5  2  5  6]\n",
      " [ 5  4  2  3  3  4  0  3  5 11  3  2]\n",
      " [ 3  5  5  0  2  3  4  6  7  3  6  1]\n",
      " [ 3  2  4  7  4  5  3  2  3  4  2  6]]\n",
      "\n",
      "train accuracy: 0.4291666666666667\n",
      "test accuracy : 0.12222222222222223\n",
      "Running time: 24.7330000401 Seconds\n"
     ]
    }
   ],
   "source": [
    "\n",
    "exp = End2EndBaseline(job_id,\n",
    "                      hdf5name, \n",
    "                      OpenMIIRNestedCVFoldGenerator(),\n",
    "                      pipeline_factory=SingleConvFilterPipelineFactory(),\n",
    "                      hyper_params=hyper_params, \n",
    "                      default_params=None,\n",
    "                      base_selectors=base_selectors\n",
    "                     )\n",
    "import time \n",
    "starttime=time.time()\n",
    "\n",
    "# exp.run(verbose=True)\n",
    "exp.run(verbose=False)\n",
    "\n",
    "endtime=time.time()\n",
    "print('Running time: %s Seconds'%(endtime-starttime))"
   ]
  },
  {
   "cell_type": "code",
   "execution_count": 6,
   "metadata": {},
   "outputs": [],
   "source": [
    "#  overfitting"
   ]
  }
 ],
 "metadata": {
  "kernelspec": {
   "display_name": "Python 2",
   "language": "python",
   "name": "python2"
  },
  "language_info": {
   "codemirror_mode": {
    "name": "ipython",
    "version": 2
   },
   "file_extension": ".py",
   "mimetype": "text/x-python",
   "name": "python",
   "nbconvert_exporter": "python",
   "pygments_lexer": "ipython2",
   "version": "2.7.15"
  }
 },
 "nbformat": 4,
 "nbformat_minor": 2
}
