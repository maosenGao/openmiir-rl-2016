{
 "cells": [
  {
   "cell_type": "code",
   "execution_count": 1,
   "metadata": {},
   "outputs": [],
   "source": [
    "import numpy as np\n",
    "import deepthought, mne, os\n",
    "\n",
    "mne.set_log_level('WARNING')\n",
    "# mne.set_log_level('INFO')\n",
    "verbose = False\n",
    "\n",
    "from openmiir.constants import STIMULUS_IDS\n",
    "from openmiir.metadata import load_stimuli_metadata, get_stimuli_version\n",
    "from openmiir.events import get_event_id\n",
    "from deepthought.util.fs_util import save"
   ]
  },
  {
   "cell_type": "code",
   "execution_count": 2,
   "metadata": {},
   "outputs": [],
   "source": [
    "sfreq = 512  # no down-sampling\n",
    "\n",
    "# select data to be extracted\n",
    "# subjects = ['P01','P04','P05','P06','P07','P09','P11','P12','P13','P14']\n",
    "# subjects = ['P01','P04','P06','P07','P09','P11','P12','P13','P14']  # excluding P05\n",
    "subjects = ['P01','P04','P06','P07','P09']  # excluding P05 gaomaosen：All the files after 11 have errors\n",
    "\n",
    "conditions = [1]\n",
    "stimuli = STIMULUS_IDS\n",
    "\n",
    "include_cue = False\n",
    "use_mastoid_reference = False\n",
    "\n",
    "data_root = 'E:\\\\OpenMIIR-RawEEG_v1\\\\OpenMIIR'\n",
    "mne_data_root = os.path.join(data_root, 'eeg', 'mne')\n",
    "ica_data_root = os.path.join(data_root, 'eeg', 'preprocessing', 'ica')\n",
    "target_path = 'data/OpenMIIR-Perception-512Hz.pklz'\n",
    "\n",
    "import warnings\n",
    "warnings.filterwarnings(\"ignore\")"
   ]
  },
  {
   "cell_type": "code",
   "execution_count": 3,
   "metadata": {},
   "outputs": [],
   "source": [
    "cache = dict()"
   ]
  },
  {
   "cell_type": "code",
   "execution_count": 4,
   "metadata": {
    "scrolled": false
   },
   "outputs": [
    {
     "name": "stdout",
     "output_type": "stream",
     "text": [
      "P01\n",
      "The behavior of set_eeg_reference will change in 0.16 when ref_channels=\"average\". Currently, a projection is computed, which has to be applied manually with the apply_proj method. In 0.16, the average reference will be directly applied. Set projection=True if you want to retain the old behavior, or set projection=False if you want the new behavior.\n",
      "An average reference projection was already added. The data has been left untouched.\n",
      "fir_design defaults to \"firwin2\" in 0.15 but will change to \"firwin\" in 0.16, set it explicitly to avoid this warning.\n",
      "Attenuation at stop frequency 0.4Hz is only 11.6dB. Increase filter_length for higher attenuation.\n",
      "P04\n",
      "The behavior of set_eeg_reference will change in 0.16 when ref_channels=\"average\". Currently, a projection is computed, which has to be applied manually with the apply_proj method. In 0.16, the average reference will be directly applied. Set projection=True if you want to retain the old behavior, or set projection=False if you want the new behavior.\n",
      "An average reference projection was already added. The data has been left untouched.\n",
      "fir_design defaults to \"firwin2\" in 0.15 but will change to \"firwin\" in 0.16, set it explicitly to avoid this warning.\n",
      "Attenuation at stop frequency 0.4Hz is only 11.6dB. Increase filter_length for higher attenuation.\n",
      "P06\n",
      "The behavior of set_eeg_reference will change in 0.16 when ref_channels=\"average\". Currently, a projection is computed, which has to be applied manually with the apply_proj method. In 0.16, the average reference will be directly applied. Set projection=True if you want to retain the old behavior, or set projection=False if you want the new behavior.\n",
      "An average reference projection was already added. The data has been left untouched.\n",
      "fir_design defaults to \"firwin2\" in 0.15 but will change to \"firwin\" in 0.16, set it explicitly to avoid this warning.\n",
      "Attenuation at stop frequency 0.4Hz is only 11.6dB. Increase filter_length for higher attenuation.\n",
      "P07\n",
      "The behavior of set_eeg_reference will change in 0.16 when ref_channels=\"average\". Currently, a projection is computed, which has to be applied manually with the apply_proj method. In 0.16, the average reference will be directly applied. Set projection=True if you want to retain the old behavior, or set projection=False if you want the new behavior.\n",
      "An average reference projection was already added. The data has been left untouched.\n",
      "fir_design defaults to \"firwin2\" in 0.15 but will change to \"firwin\" in 0.16, set it explicitly to avoid this warning.\n",
      "Attenuation at stop frequency 0.4Hz is only 11.6dB. Increase filter_length for higher attenuation.\n",
      "P09\n",
      "fir_design defaults to \"firwin2\" in 0.15 but will change to \"firwin\" in 0.16, set it explicitly to avoid this warning.\n",
      "Attenuation at stop frequency 0.4Hz is only 11.6dB. Increase filter_length for higher attenuation.\n"
     ]
    }
   ],
   "source": [
    "from openmiir.preprocessing import load_and_preprocess_raw\n",
    "from openmiir.preprocessing.pipeline import load_raw_info\n",
    "\n",
    "for subject in subjects:\n",
    "    print subject\n",
    "    if subject in cache: continue\n",
    "    \n",
    "    info = load_raw_info(subject, mne_data_root=mne_data_root)  # need to keep info with bad channels for later\n",
    "\n",
    "    raw, trial_events = load_and_preprocess_raw(subject, \n",
    "                                            mne_data_root=mne_data_root,\n",
    "                                            ica_data_root=ica_data_root,\n",
    "                                            onsets='audio',\n",
    "                                            interpolate_bad_channels=True, \n",
    "                                            reference_mastoids=use_mastoid_reference,\n",
    "                                            l_freq=0.5,\n",
    "                                            h_freq=30,\n",
    "                                            sfreq=sfreq,\n",
    "                                            ica_cleaning=True,\n",
    "                                            verbose=None,\n",
    "                                            n_jobs=4)\n",
    "    cache[subject] = raw, trial_events, info"
   ]
  },
  {
   "cell_type": "code",
   "execution_count": null,
   "metadata": {},
   "outputs": [],
   "source": []
  },
  {
   "cell_type": "code",
   "execution_count": 5,
   "metadata": {
    "scrolled": true
   },
   "outputs": [
    {
     "name": "stdout",
     "output_type": "stream",
     "text": [
      "P01 1 []\n",
      "P04 1 []\n",
      "P06 1 []\n",
      "P07 1 []\n",
      "P09 2 []\n",
      "saving dataset to data/OpenMIIR-Perception-512Hz.pklz\n",
      "300 300\n"
     ]
    }
   ],
   "source": [
    "trials = []\n",
    "metadata = []\n",
    "for subject in subjects:    \n",
    "    # load metadata\n",
    "    meta_version = get_stimuli_version(subject)\n",
    "    meta = load_stimuli_metadata(data_root, meta_version)\n",
    "    print subject, meta_version, raw.info['bads']\n",
    "    \n",
    "    raw, trial_events, info = cache[subject]\n",
    "    for stim_id in stimuli:\n",
    "        if include_cue:\n",
    "            trial_len = meta[stim_id]['length_with_cue']\n",
    "        else:\n",
    "            trial_len = meta[stim_id]['length_without_cue']\n",
    "\n",
    "        for cond in conditions:\n",
    "            event_id = get_event_id(stim_id, cond)\n",
    "            \n",
    "            # select EEG channels\n",
    "            eeg_picks = mne.pick_types(raw.info, meg=False, eeg=True, eog=False, stim=False, exclude=[])\n",
    "\n",
    "            epochs = mne.Epochs(raw, events=trial_events, event_id=event_id, \n",
    "                    tmin=0, tmax=trial_len, \n",
    "                    proj=False, picks=eeg_picks, preload=True, verbose=False)\n",
    "            \n",
    "            \n",
    "            # TEMPORARY FIX for update from mne-python 0.9 to 0.10\n",
    "            # interpolate bad channels again as ICA will not be applied on them\n",
    "            epochs.info['bads'] = info['bads']  # set bad channel flags for interpolation\n",
    "            epochs.interpolate_bads()\n",
    "\n",
    "            for i, trial in enumerate(epochs.get_data()):                                \n",
    "\n",
    "                trials.append(np.asarray(trial, dtype=np.float32))\n",
    "\n",
    "                trial_meta = dict()\n",
    "                trial_meta['subject'] = subject\n",
    "                if cond == 1:\n",
    "                    trial_meta['trial_type'] = 'perception'\n",
    "                else:\n",
    "                    trial_meta['trial_type'] = 'imagination'\n",
    "                trial_meta['trial_no'] = i\n",
    "                trial_meta['condition'] = cond\n",
    "                trial_meta['stimulus_id'] = stim_id\n",
    "\n",
    "#                 print trial_meta\n",
    "                metadata.append(trial_meta)                \n",
    "\n",
    "target_path = 'data/OpenMIIR-Perception-512Hz.pklz'\n",
    "print 'saving dataset to', target_path\n",
    "print len(trials), len(metadata)\n",
    "save(target_path, (trials, metadata), mkdirs=True)"
   ]
  },
  {
   "cell_type": "code",
   "execution_count": 7,
   "metadata": {},
   "outputs": [
    {
     "name": "stdout",
     "output_type": "stream",
     "text": [
      "3519 8201\n"
     ]
    }
   ],
   "source": [
    "min_len, max_len = 10000, 0\n",
    "for trial in trials:\n",
    "    min_len = min(min_len, trial.shape[-1])\n",
    "    max_len = max(max_len, trial.shape[-1])\n",
    "print min_len, max_len"
   ]
  },
  {
   "cell_type": "code",
   "execution_count": null,
   "metadata": {},
   "outputs": [],
   "source": []
  }
 ],
 "metadata": {
  "kernelspec": {
   "display_name": "Python 2",
   "language": "python",
   "name": "python2"
  },
  "language_info": {
   "codemirror_mode": {
    "name": "ipython",
    "version": 2
   },
   "file_extension": ".py",
   "mimetype": "text/x-python",
   "name": "python",
   "nbconvert_exporter": "python",
   "pygments_lexer": "ipython2",
   "version": "2.7.15"
  }
 },
 "nbformat": 4,
 "nbformat_minor": 1
}
