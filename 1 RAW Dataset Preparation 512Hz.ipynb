{
 "cells": [
  {
   "cell_type": "code",
   "execution_count": 1,
   "metadata": {},
   "outputs": [
    {
     "ename": "ModuleNotFoundError",
     "evalue": "No module named 'cPickle'",
     "output_type": "error",
     "traceback": [
      "\u001b[1;31m---------------------------------------------------------------------------\u001b[0m",
      "\u001b[1;31mModuleNotFoundError\u001b[0m                       Traceback (most recent call last)",
      "\u001b[1;32m<ipython-input-1-8f0e6466f45b>\u001b[0m in \u001b[0;36m<module>\u001b[1;34m\u001b[0m\n\u001b[0;32m      7\u001b[0m \u001b[1;33m\u001b[0m\u001b[0m\n\u001b[0;32m      8\u001b[0m \u001b[1;32mfrom\u001b[0m \u001b[0mopenmiir\u001b[0m\u001b[1;33m.\u001b[0m\u001b[0mconstants\u001b[0m \u001b[1;32mimport\u001b[0m \u001b[0mSTIMULUS_IDS\u001b[0m\u001b[1;33m\u001b[0m\u001b[1;33m\u001b[0m\u001b[0m\n\u001b[1;32m----> 9\u001b[1;33m \u001b[1;32mfrom\u001b[0m \u001b[0mopenmiir\u001b[0m\u001b[1;33m.\u001b[0m\u001b[0mmetadata\u001b[0m \u001b[1;32mimport\u001b[0m \u001b[0mload_stimuli_metadata\u001b[0m\u001b[1;33m,\u001b[0m \u001b[0mget_stimuli_version\u001b[0m\u001b[1;33m\u001b[0m\u001b[1;33m\u001b[0m\u001b[0m\n\u001b[0m\u001b[0;32m     10\u001b[0m \u001b[1;32mfrom\u001b[0m \u001b[0mopenmiir\u001b[0m\u001b[1;33m.\u001b[0m\u001b[0mevents\u001b[0m \u001b[1;32mimport\u001b[0m \u001b[0mget_event_id\u001b[0m\u001b[1;33m\u001b[0m\u001b[1;33m\u001b[0m\u001b[0m\n\u001b[0;32m     11\u001b[0m \u001b[1;32mfrom\u001b[0m \u001b[0mdeepthought\u001b[0m\u001b[1;33m.\u001b[0m\u001b[0mutil\u001b[0m\u001b[1;33m.\u001b[0m\u001b[0mfs_util\u001b[0m \u001b[1;32mimport\u001b[0m \u001b[0msave\u001b[0m\u001b[1;33m\u001b[0m\u001b[1;33m\u001b[0m\u001b[0m\n",
      "\u001b[1;32mG:\\Documents\\GitHub\\openmiir-rl-2016\\openmiir\\metadata.py\u001b[0m in \u001b[0;36m<module>\u001b[1;34m\u001b[0m\n\u001b[0;32m      8\u001b[0m \u001b[1;32mimport\u001b[0m \u001b[0mxlrd\u001b[0m\u001b[1;33m\u001b[0m\u001b[1;33m\u001b[0m\u001b[0m\n\u001b[0;32m      9\u001b[0m \u001b[1;32mimport\u001b[0m \u001b[0mdeepthought\u001b[0m\u001b[1;33m\u001b[0m\u001b[1;33m\u001b[0m\u001b[0m\n\u001b[1;32m---> 10\u001b[1;33m \u001b[1;32mfrom\u001b[0m \u001b[0mdeepthought\u001b[0m\u001b[1;33m.\u001b[0m\u001b[0mutil\u001b[0m\u001b[1;33m.\u001b[0m\u001b[0mfs_util\u001b[0m \u001b[1;32mimport\u001b[0m \u001b[0mensure_parent_dir_exists\u001b[0m\u001b[1;33m\u001b[0m\u001b[1;33m\u001b[0m\u001b[0m\n\u001b[0m\u001b[0;32m     11\u001b[0m \u001b[1;33m\u001b[0m\u001b[0m\n\u001b[0;32m     12\u001b[0m \u001b[1;32mfrom\u001b[0m \u001b[0mopenmiir\u001b[0m\u001b[1;33m.\u001b[0m\u001b[0mconstants\u001b[0m \u001b[1;32mimport\u001b[0m \u001b[0mSTIMULUS_IDS\u001b[0m\u001b[1;33m\u001b[0m\u001b[1;33m\u001b[0m\u001b[0m\n",
      "\u001b[1;32mG:\\Documents\\GitHub\\openmiir-rl-2016\\deepthought\\util\\fs_util.py\u001b[0m in \u001b[0;36m<module>\u001b[1;34m\u001b[0m\n\u001b[0;32m      8\u001b[0m \u001b[1;32mimport\u001b[0m \u001b[0mshutil\u001b[0m\u001b[1;33m\u001b[0m\u001b[1;33m\u001b[0m\u001b[0m\n\u001b[0;32m      9\u001b[0m \u001b[1;32mimport\u001b[0m \u001b[0mgzip\u001b[0m\u001b[1;33m\u001b[0m\u001b[1;33m\u001b[0m\u001b[0m\n\u001b[1;32m---> 10\u001b[1;33m \u001b[1;32mimport\u001b[0m \u001b[0mcPickle\u001b[0m\u001b[1;33m\u001b[0m\u001b[1;33m\u001b[0m\u001b[0m\n\u001b[0m\u001b[0;32m     11\u001b[0m \u001b[1;33m\u001b[0m\u001b[0m\n\u001b[0;32m     12\u001b[0m \u001b[1;33m\u001b[0m\u001b[0m\n",
      "\u001b[1;31mModuleNotFoundError\u001b[0m: No module named 'cPickle'"
     ]
    }
   ],
   "source": [
    "import numpy as np\n",
    "import deepthought, mne, os\n",
    "\n",
    "mne.set_log_level('WARNING')\n",
    "# mne.set_log_level('INFO')\n",
    "verbose = False\n",
    "\n",
    "from openmiir.constants import STIMULUS_IDS\n",
    "from openmiir.metadata import load_stimuli_metadata, get_stimuli_version\n",
    "from openmiir.events import get_event_id\n",
    "from deepthought.util.fs_util import save\n",
    "\n",
    "sfreq = 512  # no down-sampling\n",
    "\n",
    "# select data to be extracted\n",
    "# subjects = ['P01','P04','P05','P06','P07','P09','P11','P12','P13','P14']\n",
    "subjects = ['P01','P04','P06','P07','P09','P11','P12','P13','P14']  # excluding P05\n",
    "\n",
    "conditions = [1]\n",
    "stimuli = STIMULUS_IDS\n",
    "\n",
    "include_cue = False\n",
    "use_mastoid_reference = False\n",
    "\n",
    "data_root = '/srv/mlcog/datasets/OpenMIIR/'\n",
    "mne_data_root = os.path.join(data_root, 'eeg', 'mne')\n",
    "ica_data_root = os.path.join(data_root, 'eeg', 'preprocessing', 'ica')\n",
    "target_path = 'data/OpenMIIR-Perception-512Hz.pklz'"
   ]
  },
  {
   "cell_type": "code",
   "execution_count": 2,
   "metadata": {
    "collapsed": true
   },
   "outputs": [],
   "source": [
    "cache = dict()"
   ]
  },
  {
   "cell_type": "code",
   "execution_count": 3,
   "metadata": {
    "scrolled": false
   },
   "outputs": [],
   "source": [
    "from openmiir.preprocessing import load_and_preprocess_raw\n",
    "from openmiir.preprocessing.pipeline import load_raw_info\n",
    "\n",
    "for subject in subjects:\n",
    "    print subject\n",
    "    if subject in cache: continue\n",
    "    \n",
    "    info = load_raw_info(subject, mne_data_root=mne_data_root)  # need to keep info with bad channels for later\n",
    "\n",
    "    raw, trial_events = load_and_preprocess_raw(subject, \n",
    "                                            mne_data_root=mne_data_root,\n",
    "                                            ica_data_root=ica_data_root,\n",
    "                                            onsets='audio',\n",
    "                                            interpolate_bad_channels=True, \n",
    "                                            reference_mastoids=use_mastoid_reference,\n",
    "                                            l_freq=0.5,\n",
    "                                            h_freq=30,\n",
    "                                            sfreq=sfreq,\n",
    "                                            ica_cleaning=True,\n",
    "                                            verbose=None,\n",
    "                                            n_jobs=4)\n",
    "    cache[subject] = raw, trial_events, info"
   ]
  },
  {
   "cell_type": "code",
   "execution_count": 4,
   "metadata": {
    "scrolled": true
   },
   "outputs": [],
   "source": [
    "trials = []\n",
    "metadata = []\n",
    "for subject in subjects:    \n",
    "    # load metadata\n",
    "    meta_version = get_stimuli_version(subject)\n",
    "    meta = load_stimuli_metadata(data_root, meta_version)\n",
    "    print subject, meta_version, raw.info['bads']\n",
    "    \n",
    "    raw, trial_events, info = cache[subject]\n",
    "    for stim_id in stimuli:\n",
    "        if include_cue:\n",
    "            trial_len = meta[stim_id]['length_with_cue']\n",
    "        else:\n",
    "            trial_len = meta[stim_id]['length_without_cue']\n",
    "\n",
    "        for cond in conditions:\n",
    "            event_id = get_event_id(stim_id, cond)\n",
    "            \n",
    "            # select EEG channels\n",
    "            eeg_picks = mne.pick_types(raw.info, meg=False, eeg=True, eog=False, stim=False, exclude=[])\n",
    "\n",
    "            epochs = mne.Epochs(raw, events=trial_events, event_id=event_id, \n",
    "                    tmin=0, tmax=trial_len, \n",
    "                    proj=False, picks=eeg_picks, preload=True, verbose=False)\n",
    "            \n",
    "            \n",
    "            # TEMPORARY FIX for update from mne-python 0.9 to 0.10\n",
    "            # interpolate bad channels again as ICA will not be applied on them\n",
    "            epochs.info['bads'] = info['bads']  # set bad channel flags for interpolation\n",
    "            epochs.interpolate_bads()\n",
    "\n",
    "            for i, trial in enumerate(epochs.get_data()):                                \n",
    "\n",
    "                trials.append(np.asarray(trial, dtype=np.float32))\n",
    "\n",
    "                trial_meta = dict()\n",
    "                trial_meta['subject'] = subject\n",
    "                if cond == 1:\n",
    "                    trial_meta['trial_type'] = 'perception'\n",
    "                else:\n",
    "                    trial_meta['trial_type'] = 'imagination'\n",
    "                trial_meta['trial_no'] = i\n",
    "                trial_meta['condition'] = cond\n",
    "                trial_meta['stimulus_id'] = stim_id\n",
    "\n",
    "#                 print trial_meta\n",
    "                metadata.append(trial_meta)                \n",
    "\n",
    "target_path = 'data/OpenMIIR-Perception-512Hz.pklz'\n",
    "print 'saving dataset to', target_path\n",
    "print len(trials), len(metadata)\n",
    "save(target_path, (trials, metadata), mkdirs=True)"
   ]
  },
  {
   "cell_type": "code",
   "execution_count": 5,
   "metadata": {},
   "outputs": [],
   "source": [
    "min_len, max_len = 10000, 0\n",
    "for trial in trials:\n",
    "    min_len = min(min_len, trial.shape[-1])\n",
    "    max_len = max(max_len, trial.shape[-1])\n",
    "print min_len, max_len"
   ]
  },
  {
   "cell_type": "code",
   "execution_count": null,
   "metadata": {
    "collapsed": true
   },
   "outputs": [],
   "source": []
  }
 ],
 "metadata": {
  "kernelspec": {
   "display_name": "Python 3",
   "language": "python",
   "name": "python3"
  },
  "language_info": {
   "codemirror_mode": {
    "name": "ipython",
    "version": 3
   },
   "file_extension": ".py",
   "mimetype": "text/x-python",
   "name": "python",
   "nbconvert_exporter": "python",
   "pygments_lexer": "ipython3",
   "version": "3.7.4"
  }
 },
 "nbformat": 4,
 "nbformat_minor": 1
}
