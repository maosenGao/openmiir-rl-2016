{
 "cells": [
  {
   "cell_type": "code",
   "execution_count": 1,
   "metadata": {
    "collapsed": false,
    "deletable": true,
    "editable": true
   },
   "outputs": [],
   "source": [
    "import os\n",
    "os.environ[\"THEANO_FLAGS\"] = \"floatX=float32,device=cpu\"\n",
    "\n",
    "import deepthought\n",
    "import os\n",
    "from deepthought.datasets.eeg.meta_class import DataFileWithMetaClasses\n",
    "\n",
    "db = DataFileWithMetaClasses(\n",
    "        filepath='data/OpenMIIR-Perception-512Hz.pklz',\n",
    "        meta_classes={                                                \n",
    "                    'within_subject_tuples_group': ['subject', 'condition'],\n",
    "                    'cross_subject_tuples_group': ['condition'], # cross-participant triplets - this should be very tough                },\n",
    "                },\n",
    "    )"
   ]
  },
  {
   "cell_type": "code",
   "execution_count": 2,
   "metadata": {
    "collapsed": false,
    "deletable": true,
    "editable": true
   },
   "outputs": [],
   "source": [
    "from deepthought.datasets.eeg.EEGEpochsDataset import EEGEpochsDataset\n",
    "INPUT_LEN = 3518\n",
    "base_dataset = EEGEpochsDataset(\n",
    "                db=db,\n",
    "                meta_sources=['subject'],\n",
    "                selectors={         \n",
    "                    #'trial_no' : [0,1,  3,4],\n",
    "                    'condition' : [1],\n",
    "                },\n",
    "                use_targets=False,\n",
    "                stop_sample=INPUT_LEN,\n",
    "                label_attribute='stimulus_id',\n",
    "                label_map= { # stimulus_id\n",
    "                    1: 0, 2: 1, 3: 2, 4: 3, 11: 4, 12: 5, 13: 6, 14: 7, 21: 8, 22: 9, 23: 10, 24: 11,\n",
    "                },\n",
    "                remove_dc_offset=True,\n",
    "                layout='tf',\n",
    "            )"
   ]
  },
  {
   "cell_type": "code",
   "execution_count": 3,
   "metadata": {
    "collapsed": false,
    "deletable": true,
    "editable": true
   },
   "outputs": [
    {
     "name": "stdout",
     "output_type": "stream",
     "text": [
      "(540, 3518, 1, 64)\n",
      "(540, 12)\n",
      "{'trial_type': 'perception', 'cross_subject_tuples_group': 0, 'trial_no': 0, 'stimulus_id': 1, 'within_subject_tuples_group': 0, 'condition': 1, 'subject': 'P01'}\n",
      "['trial_type', 'cross_subject_tuples_group', 'trial_no', 'stimulus_id', 'within_subject_tuples_group', 'condition', 'subject']\n"
     ]
    }
   ],
   "source": [
    "print base_dataset.trials.shape\n",
    "print base_dataset.y.shape\n",
    "print base_dataset.metadata[0]\n",
    "print base_dataset.metadata[0].keys()"
   ]
  },
  {
   "cell_type": "code",
   "execution_count": 4,
   "metadata": {
    "collapsed": false,
    "deletable": true,
    "editable": true
   },
   "outputs": [
    {
     "name": "stdout",
     "output_type": "stream",
     "text": [
      "(540, 64, 3518, 1)\n"
     ]
    }
   ],
   "source": [
    "# convert to bc01 axis format\n",
    "import numpy as np\n",
    "features_bc01 = np.rollaxis(base_dataset.trials,3,1)\n",
    "print features_bc01.shape"
   ]
  },
  {
   "cell_type": "code",
   "execution_count": 5,
   "metadata": {
    "collapsed": true,
    "deletable": true,
    "editable": true
   },
   "outputs": [],
   "source": [
    "# save dataset\n",
    "\n",
    "import h5py\n",
    "from fuel.datasets.hdf5 import H5PYDataset\n",
    "\n",
    "hdf5name = 'data/OpenMIIR-Perception-512Hz.hdf5'\n",
    "f = h5py.File(hdf5name, mode='w')\n",
    "\n",
    "N = len(base_dataset.trials)\n",
    "fx = f.create_dataset('features', features_bc01.shape, dtype='float32')\n",
    "fy = f.create_dataset('targets', base_dataset.y.shape, dtype='int8')\n",
    "fx[...] = features_bc01\n",
    "fy[...] = base_dataset.y\n",
    "\n",
    "# for using indices\n",
    "findices = f.create_dataset('indices', (N,), dtype='int')\n",
    "findices[...] = xrange(N)\n",
    "\n",
    "# additional metadata source for hydra-net control flow\n",
    "subjects = ['P01','P04','P06','P07','P09','P11','P12','P13','P14']\n",
    "fsubject = f.create_dataset('subjects', (N,), dtype='int8')\n",
    "fsubject[...] = [subjects.index(meta['subject']) for meta in base_dataset.metadata]\n",
    "\n",
    "split_dict = {\n",
    "    'all': {'features': (0, N), \n",
    "            'indices': (0, N), \n",
    "            'targets': (0, N),\n",
    "            'subjects': (0, N)\n",
    "           },\n",
    "}\n",
    "\n",
    "f.attrs['split'] = H5PYDataset.create_split_array(split_dict)\n",
    "\n",
    "f.flush()\n",
    "f.close()\n",
    "\n",
    "# metadata for subset selection\n",
    "import deepthought.util.fs_util as fs_util\n",
    "fs_util.save(hdf5name+'.meta.pklz', base_dataset.metadata)"
   ]
  },
  {
   "cell_type": "code",
   "execution_count": null,
   "metadata": {
    "collapsed": true,
    "deletable": true,
    "editable": true
   },
   "outputs": [],
   "source": []
  }
 ],
 "metadata": {
  "kernelspec": {
   "display_name": "Python 2",
   "language": "python",
   "name": "python2"
  },
  "language_info": {
   "codemirror_mode": {
    "name": "ipython",
    "version": 2
   },
   "file_extension": ".py",
   "mimetype": "text/x-python",
   "name": "python",
   "nbconvert_exporter": "python",
   "pygments_lexer": "ipython2",
   "version": "2.7.13"
  }
 },
 "nbformat": 4,
 "nbformat_minor": 0
}
