{
 "cells": [
  {
   "cell_type": "code",
   "execution_count": 1,
   "metadata": {},
   "outputs": [],
   "source": [
    "import os\n",
    "os.environ[\"THEANO_FLAGS\"] = \"floatX=float32,device=cpu\"\n",
    "# os.environ[\"THEANO_FLAGS\"] = \"floatX=float32,device=gpu\" # gao：change to GPU is also useful\n",
    "\n",
    "import deepthought\n",
    "import os\n",
    "from deepthought.datasets.eeg.meta_class import DataFileWithMetaClasses\n",
    "\n",
    "db = DataFileWithMetaClasses(\n",
    "        filepath='data/OpenMIIR-Perception-512Hz.pklz',\n",
    "        meta_classes={                                                \n",
    "                    'within_subject_tuples_group': ['subject', 'condition'],\n",
    "                    'cross_subject_tuples_group': ['condition'], # cross-participant triplets - this should be very tough                },\n",
    "                },\n",
    "    )\n",
    "\n",
    "# class DataFileWithMetaClasses(DataFile):\n",
    "#     def __init__(self, filepath, meta_classes=dict()):\n",
    "#         super(DataFileWithMetaClasses, self).__init__(filepath)\n",
    "\n",
    "#         for class_name, classes in meta_classes.iteritems():\n",
    "#             self._create_meta_class(class_name, classes)\n",
    "\n",
    "\n",
    "#     def _create_meta_class(self, class_name, classes):\n",
    "#             class_map = dict()\n",
    "#             max_value = 0\n",
    "#             for meta in self.metadata:\n",
    "#                 key = []\n",
    "#                 for label in classes:\n",
    "#                     key.append(meta[label])\n",
    "#                 key = tuple(key)\n",
    "\n",
    "#                 if not key in class_map:\n",
    "#                     class_map[key] = max_value\n",
    "#                     max_value += 1\n",
    "\n",
    "#                 value = class_map[key]\n",
    "\n",
    "#                 meta[class_name] = value\n",
    "#                 # print key, value, meta"
   ]
  },
  {
   "cell_type": "code",
   "execution_count": 2,
   "metadata": {},
   "outputs": [
    {
     "name": "stderr",
     "output_type": "stream",
     "text": [
      "d:\\anacon\\envs\\python27\\lib\\site-packages\\librosa\\__init__.py:35: FutureWarning: You are using librosa with Python 2. Please note that librosa 0.7 will be the last version to support Python 2, after which it will require Python 3 or later.\n",
      "  FutureWarning)\n"
     ]
    }
   ],
   "source": [
    "from deepthought.datasets.eeg.EEGEpochsDataset import EEGEpochsDataset\n",
    "\n",
    "\n",
    "INPUT_LEN = 3518\n",
    "base_dataset = EEGEpochsDataset(\n",
    "                db=db,\n",
    "                meta_sources=['subject'],\n",
    "                selectors={         \n",
    "                    #'trial_no' : [0,1,  3,4],\n",
    "                    'condition' : [1],\n",
    "                },\n",
    "                use_targets=False,\n",
    "                stop_sample=INPUT_LEN,\n",
    "                label_attribute='stimulus_id',\n",
    "                label_map= { # stimulus_id\n",
    "                    1: 0, 2: 1, 3: 2, 4: 3, 11: 4, 12: 5, 13: 6, 14: 7, 21: 8, 22: 9, 23: 10, 24: 11,\n",
    "                },\n",
    "                remove_dc_offset=True,\n",
    "                layout='tf',\n",
    "            )"
   ]
  },
  {
   "cell_type": "code",
   "execution_count": 3,
   "metadata": {},
   "outputs": [
    {
     "name": "stdout",
     "output_type": "stream",
     "text": [
      "(540L, 3518L, 1L, 64L)\n",
      "(540L, 12L)\n",
      "{'trial_type': 'perception', 'cross_subject_tuples_group': 0, 'trial_no': 0, 'stimulus_id': 1, 'within_subject_tuples_group': 0, 'condition': 1, 'subject': 'P01'}\n",
      "['trial_type', 'cross_subject_tuples_group', 'trial_no', 'stimulus_id', 'within_subject_tuples_group', 'condition', 'subject']\n"
     ]
    }
   ],
   "source": [
    "print base_dataset.trials.shape\n",
    "print base_dataset.y.shape\n",
    "print base_dataset.metadata[0]\n",
    "print base_dataset.metadata[0].keys()"
   ]
  },
  {
   "cell_type": "code",
   "execution_count": 4,
   "metadata": {},
   "outputs": [
    {
     "name": "stdout",
     "output_type": "stream",
     "text": [
      "(540L, 64L, 3518L, 1L)\n"
     ]
    }
   ],
   "source": [
    "# convert to bc01 axis format\n",
    "import numpy as np\n",
    "features_bc01 = np.rollaxis(base_dataset.trials,3,1)\n",
    "print features_bc01.shape"
   ]
  },
  {
   "cell_type": "code",
   "execution_count": 5,
   "metadata": {},
   "outputs": [
    {
     "name": "stdout",
     "output_type": "stream",
     "text": [
      "Requirement already satisfied: h5py in d:\\anacon\\envs\\python27\\lib\\site-packages (2.10.0)\n",
      "Requirement already satisfied: numpy>=1.7 in d:\\anacon\\envs\\python27\\lib\\site-packages (from h5py) (1.16.6)\n",
      "Requirement already satisfied: six in c:\\users\\zx305\\appdata\\roaming\\python\\python27\\site-packages (from h5py) (1.14.0)\n"
     ]
    },
    {
     "name": "stderr",
     "output_type": "stream",
     "text": [
      "DEPRECATION: Python 2.7 reached the end of its life on January 1st, 2020. Please upgrade your Python as Python 2.7 is no longer maintained. A future version of pip will drop support for Python 2.7. More details about Python 2 support in pip, can be found at https://pip.pypa.io/en/latest/development/release-process/#python-2-support\n"
     ]
    }
   ],
   "source": [
    "!pip install h5py"
   ]
  },
  {
   "cell_type": "code",
   "execution_count": 6,
   "metadata": {},
   "outputs": [],
   "source": [
    "# save dataset\n",
    "\n",
    "import h5py\n",
    "from fuel.datasets.hdf5 import H5PYDataset\n",
    "\n",
    "hdf5name = 'data/OpenMIIR-Perception-512Hz.hdf5'\n",
    "f = h5py.File(hdf5name, mode='w')\n",
    "\n",
    "N = len(base_dataset.trials)\n",
    "fx = f.create_dataset('features', features_bc01.shape, dtype='float32')\n",
    "fy = f.create_dataset('targets', base_dataset.y.shape, dtype='int8')\n",
    "fx[...] = features_bc01\n",
    "fy[...] = base_dataset.y\n",
    "\n",
    "# for using indices\n",
    "findices = f.create_dataset('indices', (N,), dtype='int')\n",
    "findices[...] = xrange(N)\n",
    "\n",
    "# additional metadata source for hydra-net control flows\n",
    "\n",
    "\n",
    "subjects = ['P01','P04','P06','P07','P09','P11','P12','P13','P14']\n",
    "fsubject = f.create_dataset('subjects', (N,), dtype='int8')\n",
    "fsubject[...] = [subjects.index(meta['subject']) for meta in base_dataset.metadata]\n",
    "\n",
    "split_dict = {\n",
    "    'all': {'features': (0, N), \n",
    "            'indices': (0, N), \n",
    "            'targets': (0, N),\n",
    "            'subjects': (0, N)\n",
    "           },\n",
    "}\n",
    "\n",
    "f.attrs['split'] = H5PYDataset.create_split_array(split_dict)\n",
    "\n",
    "f.flush()\n",
    "f.close()\n",
    "\n",
    "# metadata for subset selection\n",
    "import deepthought.util.fs_util as fs_util\n",
    "fs_util.save(hdf5name+'.meta.pklz', base_dataset.metadata)"
   ]
  },
  {
   "cell_type": "code",
   "execution_count": 7,
   "metadata": {},
   "outputs": [],
   "source": [
    "# print base_dataset.metadata # gao added"
   ]
  },
  {
   "cell_type": "code",
   "execution_count": null,
   "metadata": {},
   "outputs": [],
   "source": []
  }
 ],
 "metadata": {
  "kernelspec": {
   "display_name": "Python 2",
   "language": "python",
   "name": "python2"
  },
  "language_info": {
   "codemirror_mode": {
    "name": "ipython",
    "version": 2
   },
   "file_extension": ".py",
   "mimetype": "text/x-python",
   "name": "python",
   "nbconvert_exporter": "python",
   "pygments_lexer": "ipython2",
   "version": "2.7.15"
  }
 },
 "nbformat": 4,
 "nbformat_minor": 1
}
