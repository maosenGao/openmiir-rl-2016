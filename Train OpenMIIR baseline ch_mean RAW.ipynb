{
 "cells": [
  {
   "cell_type": "code",
   "execution_count": 1,
   "metadata": {},
   "outputs": [],
   "source": [
    "job_id = 'raw_openmiir_baseline_chmean'"
   ]
  },
  {
   "cell_type": "code",
   "execution_count": 2,
   "metadata": {},
   "outputs": [],
   "source": [
    "import os\n",
    "os.environ[\"THEANO_FLAGS\"] = \"floatX=float64,device=cpu\" # usual\n",
    "# os.environ[\"THEANO_FLAGS\"] = \"floatX=float64,device=gpu\"\n",
    "\n",
    "base_selectors = dict()\n",
    "\n",
    "SEED = 42\n",
    "hdf5name = 'data/OpenMIIR-Perception-512Hz.hdf5'\n",
    "\n",
    "# defaults\n",
    "hyper_params = dict(\n",
    "    only_1_inner_fold=False,  # FIXME this is only for dev\n",
    "\n",
    "    classification_target_source='targets',\n",
    "    \n",
    "    ch_mean=True\n",
    ")"
   ]
  },
  {
   "cell_type": "code",
   "execution_count": 3,
   "metadata": {},
   "outputs": [],
   "source": [
    "import logging\n",
    "logging.basicConfig(level=logging.INFO)\n",
    "#logging.getLogger('deepthought.datasets').setLevel(logging.DEBUG) # debug dataset\n",
    "log = logging.getLogger('deepthought')\n",
    "\n",
    "import numpy as np\n",
    "np.set_printoptions(precision=4)"
   ]
  },
  {
   "cell_type": "code",
   "execution_count": 4,
   "metadata": {},
   "outputs": [],
   "source": [
    "from deepthought.experiments.encoding.datasets.openmiir import OpenMIIRNestedCVFoldGenerator\n",
    "from deepthought.experiments.encoding.experiment_templates.svc_baseline import SVCBaseline\n",
    "\n",
    "from deepthought.experiments.encoding.classifiers.linear_svc import UntunedLinearSVCClassifierFactory\n",
    "from deepthought.experiments.encoding.classifiers.simple_nn import SimpleNNClassifierFactory"
   ]
  },
  {
   "cell_type": "code",
   "execution_count": 5,
   "metadata": {
    "scrolled": true
   },
   "outputs": [
    {
     "name": "stdout",
     "output_type": "stream",
     "text": [
      "running job #raw_openmiir_baseline_chmean\n",
      "output path:  results\\raw_openmiir_baseline_chmean\n"
     ]
    },
    {
     "name": "stderr",
     "output_type": "stream",
     "text": [
      "INFO:numexpr.utils:NumExpr defaulting to 8 threads.\n"
     ]
    },
    {
     "name": "stdout",
     "output_type": "stream",
     "text": [
      "processing outer fold {'train': ['P04', 'P06', 'P07', 'P09', 'P11', 'P12', 'P13', 'P14'], 'valid': ['P01']}\n",
      "fold_scores for c=0.0100: [0.1979 0.0833 0.1146 0.1875 0.2396] mean=0.1646\n",
      "fold_scores for c=0.0500: [0.1667 0.1146 0.0938 0.1667 0.1771] mean=0.1437\n",
      "fold_scores for c=0.1000: [0.1667 0.1146 0.0938 0.1667 0.1771] mean=0.1437\n",
      "fold_scores for c=0.0050: [0.2292 0.1458 0.0938 0.1562 0.1979] mean=0.1646\n",
      "fold_scores for c=0.0010: [0.1667 0.1458 0.0938 0.1354 0.1875] mean=0.1458\n",
      "fold_scores for c=0.0005: [0.1667 0.1458 0.0938 0.1354 0.1875] mean=0.1458\n",
      "fold_scores for c=0.0001: [0.1667 0.1458 0.0938 0.1354 0.1875] mean=0.1458\n",
      "fold_scores for c=0.5000: [0.1667 0.1146 0.0938 0.1667 0.1771] mean=0.1437\n",
      "fold_scores for c=1.0000: [0.1667 0.1146 0.0938 0.1667 0.1771] mean=0.1437\n",
      "fold_scores for c=2.0000: [0.1667 0.1146 0.0938 0.1667 0.1771] mean=0.1437\n",
      "best c=0.01 with score 0.164583333333\n",
      "processing outer fold {'train': ['P01', 'P06', 'P07', 'P09', 'P11', 'P12', 'P13', 'P14'], 'valid': ['P04']}\n",
      "fold_scores for c=0.0100: [0.1771 0.125  0.1562 0.1875 0.2708] mean=0.1833\n",
      "fold_scores for c=0.0500: [0.1562 0.1458 0.125  0.1875 0.1771] mean=0.1583\n",
      "fold_scores for c=0.1000: [0.1562 0.1458 0.125  0.1875 0.1771] mean=0.1583\n",
      "fold_scores for c=0.0050: [0.1667 0.1562 0.125  0.1771 0.1979] mean=0.1646\n",
      "fold_scores for c=0.0010: [0.1771 0.1354 0.1354 0.1562 0.2396] mean=0.1688\n",
      "fold_scores for c=0.0005: [0.1771 0.1354 0.1354 0.1562 0.2396] mean=0.1688\n",
      "fold_scores for c=0.0001: [0.1771 0.1354 0.1354 0.1562 0.2396] mean=0.1688\n",
      "fold_scores for c=0.5000: [0.1562 0.1458 0.125  0.1875 0.1771] mean=0.1583\n",
      "fold_scores for c=1.0000: [0.1562 0.1458 0.125  0.1875 0.1771] mean=0.1583\n",
      "fold_scores for c=2.0000: [0.1562 0.1458 0.125  0.1875 0.1771] mean=0.1583\n",
      "best c=0.01 with score 0.183333333333\n",
      "processing outer fold {'train': ['P01', 'P04', 'P07', 'P09', 'P11', 'P12', 'P13', 'P14'], 'valid': ['P06']}\n",
      "fold_scores for c=0.0100: [0.1667 0.125  0.1667 0.1146 0.2083] mean=0.1562\n",
      "fold_scores for c=0.0500: [0.1667 0.1354 0.1458 0.1458 0.1771] mean=0.1542\n",
      "fold_scores for c=0.1000: [0.1667 0.1354 0.1354 0.1354 0.1771] mean=0.1500\n",
      "fold_scores for c=0.0050: [0.1875 0.1042 0.1458 0.1562 0.2188] mean=0.1625\n",
      "fold_scores for c=0.0010: [0.1562 0.125  0.1667 0.1354 0.1771] mean=0.1521\n",
      "fold_scores for c=0.0005: [0.1562 0.125  0.1667 0.1354 0.1771] mean=0.1521\n",
      "fold_scores for c=0.0001: [0.1562 0.125  0.1667 0.1354 0.1771] mean=0.1521\n",
      "fold_scores for c=0.5000: [0.1667 0.1354 0.1354 0.1354 0.1771] mean=0.1500\n",
      "fold_scores for c=1.0000: [0.1667 0.1354 0.1354 0.1354 0.1771] mean=0.1500\n",
      "fold_scores for c=2.0000: [0.1667 0.1354 0.1354 0.1354 0.1771] mean=0.1500\n",
      "best c=0.005 with score 0.1625\n",
      "processing outer fold {'train': ['P01', 'P04', 'P06', 'P09', 'P11', 'P12', 'P13', 'P14'], 'valid': ['P07']}\n",
      "fold_scores for c=0.0100: [0.1771 0.1146 0.1458 0.1562 0.2292] mean=0.1646\n",
      "fold_scores for c=0.0500: [0.1875 0.1042 0.1146 0.2188 0.1771] mean=0.1604\n",
      "fold_scores for c=0.1000: [0.1875 0.1146 0.1146 0.2188 0.1771] mean=0.1625\n",
      "fold_scores for c=0.0050: [0.1875 0.1667 0.1354 0.1354 0.1979] mean=0.1646\n",
      "fold_scores for c=0.0010: [0.1979 0.1562 0.1354 0.1042 0.1667] mean=0.1521\n",
      "fold_scores for c=0.0005: [0.1979 0.1562 0.1354 0.1042 0.1667] mean=0.1521\n",
      "fold_scores for c=0.0001: [0.1979 0.1562 0.1354 0.1042 0.1667] mean=0.1521\n",
      "fold_scores for c=0.5000: [0.1875 0.1146 0.1146 0.2188 0.1771] mean=0.1625\n",
      "fold_scores for c=1.0000: [0.1875 0.1146 0.1146 0.2188 0.1771] mean=0.1625\n",
      "fold_scores for c=2.0000: [0.1875 0.1146 0.1146 0.2188 0.1771] mean=0.1625\n",
      "best c=0.01 with score 0.164583333333\n",
      "processing outer fold {'train': ['P01', 'P04', 'P06', 'P07', 'P11', 'P12', 'P13', 'P14'], 'valid': ['P09']}\n",
      "fold_scores for c=0.0100: [0.1562 0.125  0.1146 0.1771 0.1667] mean=0.1479\n",
      "fold_scores for c=0.0500: [0.1771 0.125  0.125  0.1875 0.1667] mean=0.1562\n",
      "fold_scores for c=0.1000: [0.1771 0.125  0.125  0.1875 0.1667] mean=0.1562\n",
      "fold_scores for c=0.0050: [0.1875 0.125  0.1354 0.2083 0.1875] mean=0.1688\n",
      "fold_scores for c=0.0010: [0.1875 0.1042 0.1458 0.1771 0.1458] mean=0.1521\n",
      "fold_scores for c=0.0005: [0.1875 0.1042 0.1458 0.1771 0.1458] mean=0.1521\n",
      "fold_scores for c=0.0001: [0.1875 0.1042 0.1458 0.1771 0.1458] mean=0.1521\n",
      "fold_scores for c=0.5000: [0.1771 0.125  0.125  0.1875 0.1667] mean=0.1562\n",
      "fold_scores for c=1.0000: [0.1771 0.125  0.125  0.1875 0.1667] mean=0.1562\n",
      "fold_scores for c=2.0000: [0.1771 0.125  0.125  0.1875 0.1667] mean=0.1562\n",
      "best c=0.005 with score 0.16875\n",
      "processing outer fold {'train': ['P01', 'P04', 'P06', 'P07', 'P09', 'P12', 'P13', 'P14'], 'valid': ['P11']}\n",
      "fold_scores for c=0.0100: [0.1979 0.1458 0.0938 0.1771 0.1875] mean=0.1604\n",
      "fold_scores for c=0.0500: [0.1562 0.1458 0.1146 0.2083 0.1979] mean=0.1646\n",
      "fold_scores for c=0.1000: [0.1562 0.1458 0.1146 0.2083 0.1979] mean=0.1646\n",
      "fold_scores for c=0.0050: [0.1771 0.1146 0.0938 0.1875 0.2188] mean=0.1583\n",
      "fold_scores for c=0.0010: [0.1979 0.125  0.0938 0.1354 0.1979] mean=0.1500\n",
      "fold_scores for c=0.0005: [0.1979 0.125  0.0938 0.1354 0.1979] mean=0.1500\n",
      "fold_scores for c=0.0001: [0.1979 0.125  0.0938 0.1354 0.1979] mean=0.1500\n",
      "fold_scores for c=0.5000: [0.1562 0.1458 0.1146 0.2083 0.1979] mean=0.1646\n",
      "fold_scores for c=1.0000: [0.1562 0.1458 0.1146 0.2083 0.1979] mean=0.1646\n",
      "fold_scores for c=2.0000: [0.1562 0.1458 0.1146 0.2083 0.1979] mean=0.1646\n",
      "best c=0.05 with score 0.164583333333\n",
      "processing outer fold {'train': ['P01', 'P04', 'P06', 'P07', 'P09', 'P11', 'P13', 'P14'], 'valid': ['P12']}\n",
      "fold_scores for c=0.0100: [0.1771 0.1146 0.1458 0.1979 0.1875] mean=0.1646\n",
      "fold_scores for c=0.0500: [0.1667 0.1458 0.125  0.1979 0.1667] mean=0.1604\n",
      "fold_scores for c=0.1000: [0.1667 0.1458 0.125  0.1979 0.1667] mean=0.1604\n",
      "fold_scores for c=0.0050: [0.1458 0.1458 0.1458 0.2083 0.1771] mean=0.1646\n",
      "fold_scores for c=0.0010: [0.1667 0.1146 0.125  0.1667 0.1354] mean=0.1417\n",
      "fold_scores for c=0.0005: [0.1667 0.1146 0.125  0.1667 0.1354] mean=0.1417\n",
      "fold_scores for c=0.0001: [0.1667 0.1146 0.125  0.1667 0.1354] mean=0.1417\n",
      "fold_scores for c=0.5000: [0.1667 0.1458 0.125  0.1979 0.1667] mean=0.1604\n",
      "fold_scores for c=1.0000: [0.1667 0.1458 0.125  0.1979 0.1667] mean=0.1604\n",
      "fold_scores for c=2.0000: [0.1667 0.1458 0.125  0.1979 0.1667] mean=0.1604\n",
      "best c=0.005 with score 0.164583333333\n",
      "processing outer fold {'train': ['P01', 'P04', 'P06', 'P07', 'P09', 'P11', 'P12', 'P14'], 'valid': ['P13']}\n",
      "fold_scores for c=0.0100: [0.1875 0.1875 0.125  0.1979 0.2292] mean=0.1854\n",
      "fold_scores for c=0.0500: [0.1979 0.1458 0.1354 0.1771 0.1771] mean=0.1667\n",
      "fold_scores for c=0.1000: [0.1979 0.1458 0.1354 0.1875 0.1771] mean=0.1688\n",
      "fold_scores for c=0.0050: [0.1771 0.1771 0.1354 0.1979 0.1979] mean=0.1771\n",
      "fold_scores for c=0.0010: [0.1771 0.1875 0.1562 0.1562 0.1667] mean=0.1688\n",
      "fold_scores for c=0.0005: [0.1771 0.1875 0.1562 0.1562 0.1667] mean=0.1688\n",
      "fold_scores for c=0.0001: [0.1771 0.1875 0.1562 0.1562 0.1667] mean=0.1688\n",
      "fold_scores for c=0.5000: [0.1979 0.1458 0.1354 0.1875 0.1771] mean=0.1688\n",
      "fold_scores for c=1.0000: [0.1979 0.1458 0.1354 0.1875 0.1771] mean=0.1688\n",
      "fold_scores for c=2.0000: [0.1979 0.1458 0.1354 0.1875 0.1771] mean=0.1688\n",
      "best c=0.01 with score 0.185416666667\n",
      "processing outer fold {'train': ['P01', 'P04', 'P06', 'P07', 'P09', 'P11', 'P12', 'P13'], 'valid': ['P14']}\n",
      "fold_scores for c=0.0100: [0.1667 0.1458 0.125  0.1979 0.1667] mean=0.1604\n",
      "fold_scores for c=0.0500: [0.1667 0.1458 0.0938 0.2396 0.1771] mean=0.1646\n",
      "fold_scores for c=0.1000: [0.1667 0.1458 0.0938 0.2396 0.1771] mean=0.1646\n",
      "fold_scores for c=0.0050: [0.1771 0.1667 0.1562 0.1667 0.1979] mean=0.1729\n",
      "fold_scores for c=0.0010: [0.1771 0.1562 0.1562 0.1042 0.1458] mean=0.1479\n",
      "fold_scores for c=0.0005: [0.1771 0.1562 0.1562 0.1042 0.1458] mean=0.1479\n",
      "fold_scores for c=0.0001: [0.1771 0.1562 0.1562 0.1042 0.1458] mean=0.1479\n",
      "fold_scores for c=0.5000: [0.1667 0.1458 0.0938 0.2396 0.1771] mean=0.1646\n",
      "fold_scores for c=1.0000: [0.1667 0.1458 0.0938 0.2396 0.1771] mean=0.1646\n",
      "fold_scores for c=2.0000: [0.1667 0.1458 0.0938 0.2396 0.1771] mean=0.1646\n",
      "best c=0.005 with score 0.172916666667\n",
      "all folds completed\n",
      "\n",
      "SUMMARY for classifier linear_svc\n",
      "\n",
      "fold scores:  [0.25   0.1333 0.0667 0.1333 0.2667 0.1333 0.1667 0.15   0.15  ]\n",
      "\n",
      "              precision    recall  f1-score   support\n",
      "\n",
      "         0.0       0.27      0.27      0.27        45\n",
      "         1.0       0.20      0.20      0.20        45\n",
      "         2.0       0.15      0.22      0.18        45\n",
      "         3.0       0.13      0.16      0.14        45\n",
      "         4.0       0.14      0.13      0.14        45\n",
      "         5.0       0.17      0.16      0.16        45\n",
      "         6.0       0.20      0.20      0.20        45\n",
      "         7.0       0.00      0.00      0.00        45\n",
      "         8.0       0.17      0.20      0.19        45\n",
      "         9.0       0.15      0.13      0.14        45\n",
      "        10.0       0.15      0.11      0.13        45\n",
      "        11.0       0.17      0.16      0.16        45\n",
      "\n",
      "   micro avg       0.16      0.16      0.16       540\n",
      "   macro avg       0.16      0.16      0.16       540\n",
      "weighted avg       0.16      0.16      0.16       540\n",
      "\n",
      "[[12  1  5  2  3  4  3  4  2  1  3  5]\n",
      " [ 3  9  3  6  0  4  2  3  5  5  4  1]\n",
      " [ 1  2 10  2  5  4  4  3  4  4  6  0]\n",
      " [ 5  3  7  7  6  1  1  6  4  1  0  4]\n",
      " [ 5  3  6  5  6  3  1  4  2  5  3  2]\n",
      " [ 5  3  4  6  3  7  3  0  3  5  2  4]\n",
      " [ 2  2  5  2  3  4  9  4  8  1  2  3]\n",
      " [ 6  5  5  7  3  4  4  0  5  2  0  4]\n",
      " [ 2  5  1  3  5  3  4  2  9  3  2  6]\n",
      " [ 0  8  6  4  4  1  5  3  3  6  4  1]\n",
      " [ 2  4 11  3  2  2  4  2  3  3  5  4]\n",
      " [ 2  1  4  7  2  3  6  3  4  3  3  7]]\n",
      "\n",
      "train accuracy: 0.818287037037037\n",
      "test accuracy : 0.1611111111111111\n",
      "Running time: 238.582999945 Seconds\n"
     ]
    }
   ],
   "source": [
    "exp = SVCBaseline(job_id, \n",
    "                  hdf5name,                                \n",
    "                   OpenMIIRNestedCVFoldGenerator(),\n",
    "                   hyper_params=hyper_params, \n",
    "                  default_params=None,\n",
    "                   base_selectors=base_selectors)\n",
    "import time \n",
    "starttime=time.time()\n",
    "\n",
    "# exp.run(verbose=True)\n",
    "exp.run(verbose=False)\n",
    "\n",
    "endtime=time.time()\n",
    "print('Running time: %s Seconds'%(endtime-starttime))\n"
   ]
  },
  {
   "cell_type": "code",
   "execution_count": 7,
   "metadata": {},
   "outputs": [],
   "source": [
    "# exp = SVCBaseline(job_id, \n",
    "#                   hdf5name,                                \n",
    "#                    OpenMIIRNestedCVFoldGenerator(),\n",
    "#                    hyper_params=hyper_params, \n",
    "#                   default_params=None,\n",
    "#                    base_selectors=base_selectors)\n",
    "# import time \n",
    "# starttime=time.time()\n",
    "\n",
    "\n",
    "# exp.run(classifiers=(('simple_nn', SimpleNNClassifierFactory()),))\n",
    "\n",
    "# # # exp.run(verbose=True)\n",
    "# # exp.run(verbose=False)\n",
    "\n",
    "# endtime=time.time()\n",
    "# print('Running time: %s Seconds'%(endtime-starttime))\n",
    "\n",
    "# TypeError: run() got an unexpected keyword argument 'classifiers'"
   ]
  },
  {
   "cell_type": "code",
   "execution_count": null,
   "metadata": {},
   "outputs": [],
   "source": [
    "# print hdf5name"
   ]
  },
  {
   "cell_type": "code",
   "execution_count": null,
   "metadata": {},
   "outputs": [],
   "source": [
    "# print OpenMIIRNestedCVFoldGenerator()"
   ]
  },
  {
   "cell_type": "code",
   "execution_count": null,
   "metadata": {},
   "outputs": [],
   "source": [
    "# print base_selectors"
   ]
  },
  {
   "cell_type": "code",
   "execution_count": null,
   "metadata": {},
   "outputs": [],
   "source": [
    "# print default_params"
   ]
  },
  {
   "cell_type": "code",
   "execution_count": null,
   "metadata": {},
   "outputs": [],
   "source": []
  }
 ],
 "metadata": {
  "kernelspec": {
   "display_name": "Python 2",
   "language": "python",
   "name": "python2"
  },
  "language_info": {
   "codemirror_mode": {
    "name": "ipython",
    "version": 2
   },
   "file_extension": ".py",
   "mimetype": "text/x-python",
   "name": "python",
   "nbconvert_exporter": "python",
   "pygments_lexer": "ipython2",
   "version": "2.7.15"
  }
 },
 "nbformat": 4,
 "nbformat_minor": 1
}
