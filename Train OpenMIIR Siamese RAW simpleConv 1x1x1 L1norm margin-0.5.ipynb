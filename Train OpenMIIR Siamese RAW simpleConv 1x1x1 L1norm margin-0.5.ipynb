{
 "cells": [
  {
   "cell_type": "code",
   "execution_count": 1,
   "metadata": {},
   "outputs": [],
   "source": [
    "job_id = 'raw_openmiir_siamese_simpleconv_L1norm_margin-0.5'"
   ]
  },
  {
   "cell_type": "code",
   "execution_count": 2,
   "metadata": {},
   "outputs": [
    {
     "name": "stderr",
     "output_type": "stream",
     "text": [
      "ERROR (theano.sandbox.cuda): nvcc compiler not found on $PATH. Check your nvcc installation and try again.\n"
     ]
    },
    {
     "name": "stdout",
     "output_type": "stream",
     "text": [
      "batch_size = 1000\n",
      "blocks_extensions_bokeh = False\n",
      "blocks_extensions_bokeh_channels = [['cost_train', 'cost_valid'], ['total_gradient_norm_train']]\n",
      "blocks_extensions_bokeh_plot_title = raw_openmiir_siamese_simpleconv_L1norm_margin-0.5\n",
      "blocks_extensions_printing = False\n",
      "blocks_extensions_progressbar = True\n",
      "blocks_extensions_train_monitoring_channels = []\n",
      "blocks_extensions_valid_monitoring_channels = []\n",
      "classification_target_source = targets\n",
      "classifier_batch_size = 120\n",
      "classifier_l1wdecay = 0.0\n",
      "classifier_max_epochs = 100\n",
      "classifier_pool_stride = 1\n",
      "classifier_pool_width = 1\n",
      "filter_width_freq = 1\n",
      "filter_width_time = 1\n",
      "group_attribute = within_subject_tuples_group\n",
      "l1wdecay = 0\n",
      "learning_rate = 0.01\n",
      "max_epochs = 10\n",
      "num_components = 1\n",
      "only_1_inner_fold = False\n",
      "pool_stride_freq = 1\n",
      "pool_stride_time = 1\n",
      "pool_width_freq = 1\n",
      "pool_width_time = 1\n",
      "pretrain_target_source = targets\n",
      "siamese_distance = L1-norm\n",
      "siamese_margin = -0.5\n",
      "step_rule = Adam\n",
      "use_bias = False\n",
      "use_ext_dataset_for_validation = True\n"
     ]
    }
   ],
   "source": [
    "import os\n",
    "os.environ[\"THEANO_FLAGS\"] = \"floatX=float32,device=gpu\"\n",
    "\n",
    "from common_settings import *\n",
    "hyper_params['blocks_extensions_bokeh_plot_title'] = job_id\n",
    "hyper_params['siamese_margin'] = -0.5\n",
    "hyper_params['siamese_distance'] = 'L1-norm'\n",
    "\n",
    "print_hyper_params()"
   ]
  },
  {
   "cell_type": "code",
   "execution_count": 3,
   "metadata": {},
   "outputs": [
    {
     "ename": "ImportError",
     "evalue": "cannot import name train_linear_svc",
     "output_type": "error",
     "traceback": [
      "\u001b[1;31m---------------------------------------------------------------------------\u001b[0m",
      "\u001b[1;31mImportError\u001b[0m                               Traceback (most recent call last)",
      "\u001b[1;32m<ipython-input-3-182cb65e37c4>\u001b[0m in \u001b[0;36m<module>\u001b[1;34m()\u001b[0m\n\u001b[0;32m      2\u001b[0m \u001b[1;32mfrom\u001b[0m \u001b[0mdeepthought\u001b[0m\u001b[1;33m.\u001b[0m\u001b[0mexperiments\u001b[0m\u001b[1;33m.\u001b[0m\u001b[0mencoding\u001b[0m\u001b[1;33m.\u001b[0m\u001b[0mexperiment_templates\u001b[0m\u001b[1;33m.\u001b[0m\u001b[0msiamese_encoder\u001b[0m \u001b[1;32mimport\u001b[0m \u001b[0mSiameseEncoderExperiment\u001b[0m\u001b[1;33m\u001b[0m\u001b[0m\n\u001b[0;32m      3\u001b[0m \u001b[1;32mfrom\u001b[0m \u001b[0mdeepthought\u001b[0m\u001b[1;33m.\u001b[0m\u001b[0mexperiments\u001b[0m\u001b[1;33m.\u001b[0m\u001b[0mencoding\u001b[0m\u001b[1;33m.\u001b[0m\u001b[0mpipelines\u001b[0m\u001b[1;33m.\u001b[0m\u001b[0msingle_conv_filter\u001b[0m \u001b[1;32mimport\u001b[0m \u001b[0mSingleConvFilterPipelineFactory\u001b[0m\u001b[1;33m\u001b[0m\u001b[0m\n\u001b[1;32m----> 4\u001b[1;33m \u001b[1;32mfrom\u001b[0m \u001b[0mdeepthought\u001b[0m\u001b[1;33m.\u001b[0m\u001b[0mexperiments\u001b[0m\u001b[1;33m.\u001b[0m\u001b[0mencoding\u001b[0m\u001b[1;33m.\u001b[0m\u001b[0mclassifiers\u001b[0m\u001b[1;33m.\u001b[0m\u001b[0mlinear_svc\u001b[0m \u001b[1;32mimport\u001b[0m \u001b[0mtrain_linear_svc\u001b[0m\u001b[1;33m,\u001b[0m \u001b[0mtrain_linear_svc_NOTUNING\u001b[0m\u001b[1;33m\u001b[0m\u001b[0m\n\u001b[0m\u001b[0;32m      5\u001b[0m \u001b[1;32mfrom\u001b[0m \u001b[0mdeepthought\u001b[0m\u001b[1;33m.\u001b[0m\u001b[0mexperiments\u001b[0m\u001b[1;33m.\u001b[0m\u001b[0mencoding\u001b[0m\u001b[1;33m.\u001b[0m\u001b[0mclassifiers\u001b[0m\u001b[1;33m.\u001b[0m\u001b[0msimple_nn\u001b[0m \u001b[1;32mimport\u001b[0m \u001b[0mtrain_simple_nn_cv\u001b[0m\u001b[1;33m\u001b[0m\u001b[0m\n",
      "\u001b[1;31mImportError\u001b[0m: cannot import name train_linear_svc"
     ]
    }
   ],
   "source": [
    "from deepthought.experiments.encoding.datasets.openmiir import OpenMIIRNestedCVFoldGenerator\n",
    "from deepthought.experiments.encoding.experiment_templates.siamese_encoder import SiameseEncoderExperiment\n",
    "from deepthought.experiments.encoding.pipelines.single_conv_filter import SingleConvFilterPipelineFactory\n",
    "from deepthought.experiments.encoding.classifiers.linear_svc import train_linear_svc, train_linear_svc_NOTUNING\n",
    "from deepthought.experiments.encoding.classifiers.simple_nn import train_simple_nn_cv"
   ]
  },
  {
   "cell_type": "code",
   "execution_count": null,
   "metadata": {
    "scrolled": true
   },
   "outputs": [],
   "source": [
    "#%debug\n",
    "exp = SiameseEncoderExperiment(job_id, hdf5name, \n",
    "                               #ChordProgNestedCVFoldGenerator(num_inner_folds=num_inner_folds),\n",
    "                               OpenMIIRNestedCVFoldGenerator(),\n",
    "                               SingleConvFilterPipelineFactory(),\n",
    "                               hyper_params=hyper_params, default_params=None,\n",
    "                               base_selectors=base_selectors)\n",
    "\n",
    "exp.run(classifiers=(('linear_svc', train_linear_svc),), verbose=True)"
   ]
  },
  {
   "cell_type": "code",
   "execution_count": null,
   "metadata": {
    "scrolled": true
   },
   "outputs": [],
   "source": [
    "#exp.run(classifiers=(('simple_nn', train_simple_nn_cv),))"
   ]
  },
  {
   "cell_type": "code",
   "execution_count": null,
   "metadata": {},
   "outputs": [],
   "source": []
  }
 ],
 "metadata": {
  "kernelspec": {
   "display_name": "Python 2",
   "language": "python",
   "name": "python2"
  },
  "language_info": {
   "codemirror_mode": {
    "name": "ipython",
    "version": 2
   },
   "file_extension": ".py",
   "mimetype": "text/x-python",
   "name": "python",
   "nbconvert_exporter": "python",
   "pygments_lexer": "ipython2",
   "version": "2.7.15"
  }
 },
 "nbformat": 4,
 "nbformat_minor": 1
}
